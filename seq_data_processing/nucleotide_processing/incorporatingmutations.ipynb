{
  "nbformat": 4,
  "nbformat_minor": 0,
  "metadata": {
    "colab": {
      "name": "incorporatingmutations.ipynb",
      "provenance": [],
      "collapsed_sections": []
    },
    "kernelspec": {
      "name": "python3",
      "display_name": "Python 3"
    },
    "language_info": {
      "name": "python"
    }
  },
  "cells": [
    {
      "cell_type": "markdown",
      "metadata": {
        "id": "ytfuOmGCVO4y"
      },
      "source": [
        "This is to test the validity of imputing genotype into genome files given webscraping results for intervention sequence changes."
      ]
    },
    {
      "cell_type": "code",
      "metadata": {
        "id": "T6EoXPn_VHuL"
      },
      "source": [
        "chrlist = ['chrI', 'chrII', 'chrIII', 'chrIV', 'chrV', 'chrX', 'MtDNA']\n",
        "base = '/content/drive/MyDrive/C. elegans N2 whole genome/'\n",
        "count = 0\n",
        "while count < len(chrlist):\n",
        "  f = open(base + chrlist[count] + '.txt')\n",
        "  chrlist[count] = str(f.read())\n",
        "  count = count + 1"
      ],
      "execution_count": 1,
      "outputs": []
    },
    {
      "cell_type": "code",
      "metadata": {
        "id": "bWrM-7EVWuFW"
      },
      "source": [
        "chrI = chrlist[0]\n",
        "chrII = chrlist[1]\n",
        "chrIII = chrlist[2]\n",
        "chrIV = chrlist[3]\n",
        "chrV = chrlist[4]\n",
        "chrX = chrlist[5]\n",
        "MtDNA = chrlist[6]"
      ],
      "execution_count": 2,
      "outputs": []
    },
    {
      "cell_type": "code",
      "metadata": {
        "colab": {
          "base_uri": "https://localhost:8080/",
          "height": 88
        },
        "id": "H04P6l0KghDG",
        "outputId": "88caa41b-8729-4ed3-c363-01dc6d5398ee"
      },
      "source": [
        "chrIII[0:500]"
      ],
      "execution_count": 3,
      "outputs": [
        {
          "output_type": "execute_result",
          "data": {
            "application/vnd.google.colaboratory.intrinsic+json": {
              "type": "string"
            },
            "text/plain": [
              "'CCTAAGCCTAAGCCTAAGCCTAAGCCTAAGCCTAAGCCTAAGCCTAAGCCTAAGCCTAAGCCTAAGCCTAAGCCTAAGCCTAAGCCTAAGCCTAAGCCTAAGCCTAAGCCTAAGCCTAAGCCTAAGCCTAAAAGCGCGAAATCCTATGAAATTTCAAGGATTTATAACTTTTTGAGTCCGAAAAGAGTCGGAAATCAGATAAAAATAAAATCGGGCTTTTCGACCAAAATTAGGCCTCGAAAAGTCTGAGAAAGCACGGAATCTATGGATTCACGGCTTTTTGATTCCGAAAAGGTTCGGAAAGAGAAGAAAATCGATAAGAATCGATAAATTTGCAGAAGTATTGCAAATAAATTCCGATTTTCACTAGAATTGCGTCATTTGGGCGCAGAAAATCGGGCTTTTCGACCAAAATTAGGCCTAGAAAAGCATGAAAGGGGTCCAAATTCTGAGATTTCGCAACAGTTTTTGGACAAGGTTATCCCGGAAATTAGCGGGAA'"
            ]
          },
          "metadata": {
            "tags": []
          },
          "execution_count": 3
        }
      ]
    },
    {
      "cell_type": "markdown",
      "metadata": {
        "id": "iQLp594zfOVV"
      },
      "source": [
        "testing the ability to brute force search for a locus on a given chromosome with the e1370 intervention on chromosome III (a single nucleotide substitution with a wild type sequence shown below along with 500 bp homology in either direction)"
      ]
    },
    {
      "cell_type": "code",
      "metadata": {
        "colab": {
          "base_uri": "https://localhost:8080/",
          "height": 140
        },
        "id": "8WrP6KJNfMxv",
        "outputId": "14903c83-6e11-499b-ca9e-76c0c007c6fc"
      },
      "source": [
        "testseq = 'atgattcatcaatgcgtactcctcatccagcgatccttctcgctgcttcgctttcatcggtgtctcatcaatcgatattgtcgaatgactcgtcgtcgcattgatcggagggatcgtcttaaactgtttcaacggtattgaatccgtattccgacgttccgaatcactctgaacctcgacgttctcaacatccggtgccacctcgacaacctgatcattcatatcagtatcatcaatatcatcaagatccagtgcttctgaatcgtcaaggatcatttgattatcggttaggacaaatgataaatctcggaattctggtgaagcttcagctgctagaagatgaacgagctggaggaacgtcggacgatcccgaggtgagtatctccagcacattttcatcaccttataccaatagttttcacaacattcgggcttcttgataaccttccgggccattccaatataattcaacacctcatcattactcaaaccaatatatgGctgagcaccgagtgtaaccatttcatagagaacaactccgaagctccaaacatcagatttcgagtcaaactttccgtctttcaacgactcgggtgacatccatcgaacaggcatcatacgcttgcccgatggcttataatagtcatgatagaatagatcacgagccattccgaaatctccaatcttgacagtctcatcccgatttatcatgcaattacgtgcggcgagatctcgatggcaaaacttgagcgactccaggtacgccataccatcacaaatctgtgcggcccactcatggaatttatccctcgggattatgtcgaaaaagttgcagtccgtctcattgaacacttcgtcttcgcgtttcgatcggagatagtcacggagatttccaagatccatcatttccatcacaaccatcgctggttgtacagtagagataactccgtacagtttgacgataaagttagtcttaaagttcttcataatattagcttcca'\n",
        "testseq = testseq.upper()\n",
        "testseq"
      ],
      "execution_count": 4,
      "outputs": [
        {
          "output_type": "execute_result",
          "data": {
            "application/vnd.google.colaboratory.intrinsic+json": {
              "type": "string"
            },
            "text/plain": [
              "'ATGATTCATCAATGCGTACTCCTCATCCAGCGATCCTTCTCGCTGCTTCGCTTTCATCGGTGTCTCATCAATCGATATTGTCGAATGACTCGTCGTCGCATTGATCGGAGGGATCGTCTTAAACTGTTTCAACGGTATTGAATCCGTATTCCGACGTTCCGAATCACTCTGAACCTCGACGTTCTCAACATCCGGTGCCACCTCGACAACCTGATCATTCATATCAGTATCATCAATATCATCAAGATCCAGTGCTTCTGAATCGTCAAGGATCATTTGATTATCGGTTAGGACAAATGATAAATCTCGGAATTCTGGTGAAGCTTCAGCTGCTAGAAGATGAACGAGCTGGAGGAACGTCGGACGATCCCGAGGTGAGTATCTCCAGCACATTTTCATCACCTTATACCAATAGTTTTCACAACATTCGGGCTTCTTGATAACCTTCCGGGCCATTCCAATATAATTCAACACCTCATCATTACTCAAACCAATATATGGCTGAGCACCGAGTGTAACCATTTCATAGAGAACAACTCCGAAGCTCCAAACATCAGATTTCGAGTCAAACTTTCCGTCTTTCAACGACTCGGGTGACATCCATCGAACAGGCATCATACGCTTGCCCGATGGCTTATAATAGTCATGATAGAATAGATCACGAGCCATTCCGAAATCTCCAATCTTGACAGTCTCATCCCGATTTATCATGCAATTACGTGCGGCGAGATCTCGATGGCAAAACTTGAGCGACTCCAGGTACGCCATACCATCACAAATCTGTGCGGCCCACTCATGGAATTTATCCCTCGGGATTATGTCGAAAAAGTTGCAGTCCGTCTCATTGAACACTTCGTCTTCGCGTTTCGATCGGAGATAGTCACGGAGATTTCCAAGATCCATCATTTCCATCACAACCATCGCTGGTTGTACAGTAGAGATAACTCCGTACAGTTTGACGATAAAGTTAGTCTTAAAGTTCTTCATAATATTAGCTTCCA'"
            ]
          },
          "metadata": {
            "tags": []
          },
          "execution_count": 4
        }
      ]
    },
    {
      "cell_type": "code",
      "metadata": {
        "colab": {
          "base_uri": "https://localhost:8080/"
        },
        "id": "La37U2pzZjgZ",
        "outputId": "7d5b6160-ef99-437c-f92f-063f89eab03f"
      },
      "source": [
        "chrIII.find(testseq)"
      ],
      "execution_count": 5,
      "outputs": [
        {
          "output_type": "execute_result",
          "data": {
            "text/plain": [
              "2999941"
            ]
          },
          "metadata": {
            "tags": []
          },
          "execution_count": 5
        }
      ]
    },
    {
      "cell_type": "markdown",
      "metadata": {
        "id": "FTfHaeYKhv-Y"
      },
      "source": [
        "now testing the brute force ability across all the genome files"
      ]
    },
    {
      "cell_type": "code",
      "metadata": {
        "colab": {
          "base_uri": "https://localhost:8080/"
        },
        "id": "RJ6mY6I-hveT",
        "outputId": "25184514-66b4-40a4-b48d-288ea9afbf48"
      },
      "source": [
        "count = 0\n",
        "while count < len(chrlist):\n",
        "  chr = chrlist[count]\n",
        "  testquery = chr.find(testseq)\n",
        "  if testquery != -1:\n",
        "    if count == 0:\n",
        "      print('chrI')\n",
        "    elif count == 1:\n",
        "      print('chrII')\n",
        "    elif count == 2:\n",
        "      print('chrIII')\n",
        "    elif count == 3:\n",
        "      print('chrIV')\n",
        "    elif count == 4:\n",
        "      print('chrV')\n",
        "    elif count == 5:\n",
        "      print('chrX')\n",
        "    elif count == 6:\n",
        "      print('MtDNA')\n",
        "    assert chr[testquery:testquery + len(testseq)] == testseq\n",
        "    print(testquery)\n",
        "  count = count + 1"
      ],
      "execution_count": 6,
      "outputs": [
        {
          "output_type": "stream",
          "text": [
            "chrIII\n",
            "2999941\n"
          ],
          "name": "stdout"
        }
      ]
    },
    {
      "cell_type": "markdown",
      "metadata": {
        "id": "1izj-5IFjmBi"
      },
      "source": [
        "Putting it all into one function which will do a batch of sequences with homology"
      ]
    },
    {
      "cell_type": "code",
      "metadata": {
        "id": "NQ8VmjrZhIhA"
      },
      "source": [
        "def create_elegans_genome(wildtypeseqlist, mutantseqlist):\n",
        "  assert len(wildtypeseqlist) == len(mutantseqlist) and len(wildtypeseqlist) > 0\n",
        "  chrlist = ['chrI', 'chrII', 'chrIII', 'chrIV', 'chrV', 'chrX', 'MtDNA']\n",
        "  base = '/content/drive/MyDrive/C. elegans N2 whole genome/'\n",
        "  count = 0\n",
        "  while count < len(chrlist):\n",
        "    f = open(base + chrlist[count] + '.txt')\n",
        "    chrlist[count] = str(f.read())\n",
        "    count = count + 1\n",
        "  count1 = 0\n",
        "  count2 = 0\n",
        "  while count2 < len(wildtypeseqlist):\n",
        "    seq = wildtypeseqlist[count2]\n",
        "    substitution = mutantseqlist[count2]\n",
        "    while count1 < len(chrlist):\n",
        "      chr = chrlist[count1]\n",
        "      query = chr.find(seq)\n",
        "      if query != -1:\n",
        "        if count1 == 0:\n",
        "          chrlist[0] = chrlist[0].replace(seq, substitution)\n",
        "          assert chrlist[0][query:query + len(mutantseqlist[count2])] == mutantseqlist[count2]\n",
        "          print('chrI')\n",
        "        if count1 == 1:\n",
        "          chrlist[1] = chrlist[1].replace(seq, substitution)\n",
        "          assert chrlist[1][query:query + len(mutantseqlist[count2])] == mutantseqlist[count2]\n",
        "          print('chrII')\n",
        "        if count1 == 2:\n",
        "          chrlist[2] = chrlist[2].replace(seq, substitution)\n",
        "          assert chrlist[2][query:query + len(mutantseqlist[count2])] == mutantseqlist[count2]\n",
        "          print('chrIII')\n",
        "        if count1 == 3:\n",
        "          chrlist[3] = chrlist[3].replace(seq, substitution)\n",
        "          assert chrlist[3][query:query + len(mutantseqlist[count2])] == mutantseqlist[count2]\n",
        "          print('chrIV')\n",
        "        if count1 == 4:\n",
        "          chrlist[4] = chrlist[4].replace(seq, substitution)\n",
        "          assert chrlist[4][query:query + len(mutantseqlist[count2])] == mutantseqlist[count2]\n",
        "          print('chrV')\n",
        "        if count1 == 5:\n",
        "          chrlist[5] = chrlist[5].replace(seq, substitution)\n",
        "          assert chrlist[5][query:query + len(mutantseqlist[count2])] == mutantseqlist[count2]\n",
        "          print('chrX')\n",
        "        if count1 == 6:\n",
        "          chrlist[6] = chrlist[6].replace(seq, substitution)\n",
        "          assert chrlist[6][query:query + len(mutantseqlist[count2])] == mutantseqlist[count2]\n",
        "          print('MtDNA')\n",
        "        print(query)\n",
        "      count1 = count1 + 1\n",
        "    count2 = count2 + 1\n",
        "  chrI = chrlist[0]\n",
        "  chrII = chrlist[1]\n",
        "  chrIII = chrlist[2]\n",
        "  chrIV = chrlist[3]\n",
        "  chrV = chrlist[4]\n",
        "  chrX = chrlist[5]\n",
        "  MtDNA = chrlist[6]\n",
        "  return chrI, chrII, chrIII, chrIV, chrV, chrX, MtDNA"
      ],
      "execution_count": 69,
      "outputs": []
    },
    {
      "cell_type": "markdown",
      "metadata": {
        "id": "uzUy7FnBnzMI"
      },
      "source": [
        "Now making two 1D lists of the previously mentioned intervention sequences -- one wild type, one mutated to test the function."
      ]
    },
    {
      "cell_type": "code",
      "metadata": {
        "id": "5JRvvtVAkz0f"
      },
      "source": [
        "wildtypeseqlist = ['atgattcatcaatgcgtactcctcatccagcgatccttctcgctgcttcgctttcatcggtgtctcatcaatcgatattgtcgaatgactcgtcgtcgcattgatcggagggatcgtcttaaactgtttcaacggtattgaatccgtattccgacgttccgaatcactctgaacctcgacgttctcaacatccggtgccacctcgacaacctgatcattcatatcagtatcatcaatatcatcaagatccagtgcttctgaatcgtcaaggatcatttgattatcggttaggacaaatgataaatctcggaattctggtgaagcttcagctgctagaagatgaacgagctggaggaacgtcggacgatcccgaggtgagtatctccagcacattttcatcaccttataccaatagttttcacaacattcgggcttcttgataaccttccgggccattccaatataattcaacacctcatcattactcaaaccaatatatgGctgagcaccgagtgtaaccatttcatagagaacaactccgaagctccaaacatcagatttcgagtcaaactttccgtctttcaacgactcgggtgacatccatcgaacaggcatcatacgcttgcccgatggcttataatagtcatgatagaatagatcacgagccattccgaaatctccaatcttgacagtctcatcccgatttatcatgcaattacgtgcggcgagatctcgatggcaaaacttgagcgactccaggtacgccataccatcacaaatctgtgcggcccactcatggaatttatccctcgggattatgtcgaaaaagttgcagtccgtctcattgaacacttcgtcttcgcgtttcgatcggagatagtcacggagatttccaagatccatcatttccatcacaaccatcgctggttgtacagtagagataactccgtacagtttgacgataaagttagtcttaaagttcttcataatattagcttcca'.upper()]\n",
        "mutantseqlist = ['atgattcatcaatgcgtactcctcatccagcgatccttctcgctgcttcgctttcatcggtgtctcatcaatcgatattgtcgaatgactcgtcgtcgcattgatcggagggatcgtcttaaactgtttcaacggtattgaatccgtattccgacgttccgaatcactctgaacctcgacgttctcaacatccggtgccacctcgacaacctgatcattcatatcagtatcatcaatatcatcaagatccagtgcttctgaatcgtcaaggatcatttgattatcggttaggacaaatgataaatctcggaattctggtgaagcttcagctgctagaagatgaacgagctggaggaacgtcggacgatcccgaggtgagtatctccagcacattttcatcaccttataccaatagttttcacaacattcgggcttcttgataaccttccgggccattccaatataattcaacacctcatcattactcaaaccaatatatgActgagcaccgagtgtaaccatttcatagagaacaactccgaagctccaaacatcagatttcgagtcaaactttccgtctttcaacgactcgggtgacatccatcgaacaggcatcatacgcttgcccgatggcttataatagtcatgatagaatagatcacgagccattccgaaatctccaatcttgacagtctcatcccgatttatcatgcaattacgtgcggcgagatctcgatggcaaaacttgagcgactccaggtacgccataccatcacaaatctgtgcggcccactcatggaatttatccctcgggattatgtcgaaaaagttgcagtccgtctcattgaacacttcgtcttcgcgtttcgatcggagatagtcacggagatttccaagatccatcatttccatcacaaccatcgctggttgtacagtagagataactccgtacagtttgacgataaagttagtcttaaagttcttcataatattagcttcca'.upper()]"
      ],
      "execution_count": 64,
      "outputs": []
    },
    {
      "cell_type": "code",
      "metadata": {
        "colab": {
          "base_uri": "https://localhost:8080/"
        },
        "id": "eTFMtX40oqKR",
        "outputId": "09218028-afd0-4642-9c14-92b22d8218d1"
      },
      "source": [
        "chrI, chrII, chrIII, chrIV, chrV, chrX, MtDNA = create_elegans_genome(wildtypeseqlist, mutantseqlist)\n",
        "assert chrIII[2999941:2999941 + len(mutantseqlist[0])] == mutantseqlist[0]"
      ],
      "execution_count": 70,
      "outputs": [
        {
          "output_type": "stream",
          "text": [
            "chrIII\n",
            "2999941\n"
          ],
          "name": "stdout"
        }
      ]
    },
    {
      "cell_type": "markdown",
      "metadata": {
        "id": "h3FPnEvYtloq"
      },
      "source": [
        "Now that that's taken care of, we're gonna make a new notebook and actually query the respective sequences!"
      ]
    },
    {
      "cell_type": "code",
      "metadata": {
        "id": "9bueUqhBtlSZ"
      },
      "source": [
        ""
      ],
      "execution_count": null,
      "outputs": []
    },
    {
      "cell_type": "code",
      "metadata": {
        "id": "IOSyGkrSpR-I"
      },
      "source": [
        ""
      ],
      "execution_count": null,
      "outputs": []
    }
  ]
}