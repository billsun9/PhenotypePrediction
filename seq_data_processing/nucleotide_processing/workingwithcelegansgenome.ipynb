{
  "nbformat": 4,
  "nbformat_minor": 0,
  "metadata": {
    "colab": {
      "name": "workingwithcelegansgenome.ipynb",
      "provenance": []
    },
    "kernelspec": {
      "name": "python3",
      "display_name": "Python 3"
    },
    "language_info": {
      "name": "python"
    }
  },
  "cells": [
    {
      "cell_type": "code",
      "metadata": {
        "colab": {
          "base_uri": "https://localhost:8080/"
        },
        "id": "X4GalVhB_aWt",
        "outputId": "16e5a2e8-c310-42c8-c526-3ab03e343735"
      },
      "source": [
        "import gzip\n",
        "f=gzip.open('/content/drive/MyDrive/c_elegans.PRJNA13758.WS280.genomic.fa.gz','rb')\n",
        "file_content=f.read()"
      ],
      "execution_count": 3,
      "outputs": [
        {
          "output_type": "stream",
          "text": [
            "b'>I\\nGCCTAAGCCTAAGCCTAAGCCTAAGCCTAAGCCTAAGCCTAAGCCTAAGCCTAAGCCTAA\\nGCCTAAGCCTAAGCCTAAGCCTAAGCCTAAGCCTAAGCCTAAGCCTAAGCCTAAGCCTAA\\nGCCTAAGCCTAAGCCTAAGCCTAAGCCTAAGCCTAAGCCTAAGCCTAAGCCTAAGCCTAA\\nGCCTAAGCCTAAGCCTAAGCCTAAGCCTAAGCCTAAGCCTAAGCCTAAGCCTAAGCCTAA\\nGCCTAAGCCTAAGCCTAAGCCTAAGCCTAAGCCTAAGCCTAAGCCTAAGCCTAAGCCTAA\\nGCCTAAGCCTAAGCCTAAGCCTAAGCCTAAGCCTAAGCCTAAGCCTAAGCCTAAGCCTAA\\nGCCTAAGCCTAAGCCTAAGCCTAAGCCTAAGCCTAAGCCTAAGCCTAAGCCTAAGCCTAA\\nGCCTAAGCCTAAAAAATTGAGATAAGAAAACATTTTACTTTTTCAAAATTGTTTTCATGC\n"
          ],
          "name": "stdout"
        }
      ]
    },
    {
      "cell_type": "code",
      "metadata": {
        "colab": {
          "base_uri": "https://localhost:8080/"
        },
        "id": "tRRbNxUWAhMs",
        "outputId": "8d6b6e6d-8f8f-441a-f672-175510d88215"
      },
      "source": [
        "len(file_content)"
      ],
      "execution_count": 4,
      "outputs": [
        {
          "output_type": "execute_result",
          "data": {
            "text/plain": [
              "101957874"
            ]
          },
          "metadata": {
            "tags": []
          },
          "execution_count": 4
        }
      ]
    },
    {
      "cell_type": "code",
      "metadata": {
        "id": "jGN7QsNKCiU1"
      },
      "source": [
        "test = str(file_content)"
      ],
      "execution_count": 19,
      "outputs": []
    },
    {
      "cell_type": "code",
      "metadata": {
        "id": "Yfnft4UJJx9G"
      },
      "source": [
        "test1 = test.split('\\n')"
      ],
      "execution_count": 64,
      "outputs": []
    },
    {
      "cell_type": "code",
      "metadata": {
        "id": "vD5rOTtBL6ZY"
      },
      "source": [
        "test1[0] = '>I'\n",
        "test1 = test1[0: len(test1) - 2]"
      ],
      "execution_count": 80,
      "outputs": []
    },
    {
      "cell_type": "code",
      "metadata": {
        "colab": {
          "base_uri": "https://localhost:8080/"
        },
        "id": "SK8iZsQHK0Zd",
        "outputId": "b6a2c8ca-9780-4ef6-c207-99bc24582906"
      },
      "source": [
        "basepairs = ['A', 'C', 'T', 'G']\n",
        "count = 0\n",
        "while count < len(test1):\n",
        "  x = test1[count]\n",
        "  if x[0] not in basepairs:\n",
        "    print(x)\n",
        "    print(count)\n",
        "  count = count + 1"
      ],
      "execution_count": 83,
      "outputs": [
        {
          "output_type": "stream",
          "text": [
            ">I\n",
            "0\n",
            ">II\n",
            "251209\n",
            ">III\n",
            "505868\n",
            ">IV\n",
            "735600\n",
            ">V\n",
            "1027165\n",
            ">X\n",
            "1375903\n",
            ">MtDNA\n",
            "1671220\n"
          ],
          "name": "stdout"
        }
      ]
    },
    {
      "cell_type": "code",
      "metadata": {
        "colab": {
          "base_uri": "https://localhost:8080/"
        },
        "id": "Y6Ely0o4Mg9B",
        "outputId": "e96cab18-3790-40ff-efaa-9b6498d4d8e5"
      },
      "source": [
        "chrI = test1[0: 251209]\n",
        "print(chrI[0])\n",
        "print(chrI[len(chrI) - 1])\n",
        "chrI = chrI[1:]"
      ],
      "execution_count": 103,
      "outputs": [
        {
          "output_type": "stream",
          "text": [
            ">I\n",
            "GTTTAGGCTTAGGC\n"
          ],
          "name": "stdout"
        }
      ]
    },
    {
      "cell_type": "code",
      "metadata": {
        "colab": {
          "base_uri": "https://localhost:8080/"
        },
        "id": "FaTr0BnANR-F",
        "outputId": "46e8b824-f1d8-4507-f488-df54ffdec8cc"
      },
      "source": [
        "chrII = test1[251209: 505868]\n",
        "print(chrII[0])\n",
        "print(chrII[len(chrII) - 1])\n",
        "chrII = chrII[1:]"
      ],
      "execution_count": 104,
      "outputs": [
        {
          "output_type": "stream",
          "text": [
            ">II\n",
            "T\n"
          ],
          "name": "stdout"
        }
      ]
    },
    {
      "cell_type": "code",
      "metadata": {
        "colab": {
          "base_uri": "https://localhost:8080/"
        },
        "id": "Kp4SmbDSNYrz",
        "outputId": "6d786271-69e0-4b7b-def1-72c2cbd07d8d"
      },
      "source": [
        "chrIII = test1[505868: 735600]\n",
        "print(chrIII[0])\n",
        "print(chrIII[len(chrIII) - 1])\n",
        "chrIII = chrIII[1:]"
      ],
      "execution_count": 105,
      "outputs": [
        {
          "output_type": "stream",
          "text": [
            ">III\n",
            "G\n"
          ],
          "name": "stdout"
        }
      ]
    },
    {
      "cell_type": "code",
      "metadata": {
        "colab": {
          "base_uri": "https://localhost:8080/"
        },
        "id": "OCWEiTJVNsK8",
        "outputId": "898ff873-0eec-4d30-a20c-8767228108ea"
      },
      "source": [
        "chrIV = test1[735600: 1027165]\n",
        "print(chrIV[0])\n",
        "print(chrIV[len(chrIV) - 1])\n",
        "chrIV = chrIV[1:]"
      ],
      "execution_count": 106,
      "outputs": [
        {
          "output_type": "stream",
          "text": [
            ">IV\n",
            "GCTTAGGCTTAGGCTTAGGCTTAGGCTTAGGCTTAGGCTTAGGCTTAGG\n"
          ],
          "name": "stdout"
        }
      ]
    },
    {
      "cell_type": "code",
      "metadata": {
        "colab": {
          "base_uri": "https://localhost:8080/"
        },
        "id": "5cR-MGbVOXpD",
        "outputId": "6d73f89a-c14e-4e49-cad1-0387a80ca1c5"
      },
      "source": [
        "chrV = test1[1027165: 1375903]\n",
        "print(chrV[0])\n",
        "print(chrV[len(chrV) - 1])\n",
        "chrV = chrV[1:]"
      ],
      "execution_count": 107,
      "outputs": [
        {
          "output_type": "stream",
          "text": [
            ">V\n",
            "TAGGCTTAGGCTTAGGCTTA\n"
          ],
          "name": "stdout"
        }
      ]
    },
    {
      "cell_type": "code",
      "metadata": {
        "colab": {
          "base_uri": "https://localhost:8080/"
        },
        "id": "j3F6Sc1bOD_i",
        "outputId": "649dd96d-6f80-413e-8533-e3a915a69aea"
      },
      "source": [
        "chrX = test1[1375903: 1671220]\n",
        "print(chrX[0])\n",
        "print(chrX[len(chrX) - 1])\n",
        "chrX = chrX[1:]"
      ],
      "execution_count": 108,
      "outputs": [
        {
          "output_type": "stream",
          "text": [
            ">X\n",
            "CTTAGGCTTAGGCTTAGGCTTAGGCTTAGGCTTAGGCTTAGG\n"
          ],
          "name": "stdout"
        }
      ]
    },
    {
      "cell_type": "code",
      "metadata": {
        "colab": {
          "base_uri": "https://localhost:8080/"
        },
        "id": "0MrwXFO_OxvG",
        "outputId": "c7760455-be4e-48c6-d1b5-e86347fc2a28"
      },
      "source": [
        "MtDNA = test1[1671220:]\n",
        "print(MtDNA[0])\n",
        "print(MtDNA[len(MtDNA) - 1])\n",
        "MtDNA = MtDNA[1:]"
      ],
      "execution_count": 109,
      "outputs": [
        {
          "output_type": "stream",
          "text": [
            ">MtDNA\n",
            "TATAAATATGATGAAGTACTAAAAAAAAGATGAATATTCTATAATATATTTAGATATATT\n"
          ],
          "name": "stdout"
        }
      ]
    },
    {
      "cell_type": "code",
      "metadata": {
        "id": "5VnTFiiZP0lr"
      },
      "source": [
        "genome = {'chrI': ''.join(chrI),\n",
        "          'chrII': ''.join(chrII),\n",
        "          'chrIII': ''.join(chrIII),\n",
        "          'chrIV': ''.join(chrIV),\n",
        "          'chrV': ''.join(chrV),\n",
        "          'chrX': ''.join(chrX),\n",
        "          'MtDNA': ''.join(MtDNA),\n",
        "          }"
      ],
      "execution_count": 110,
      "outputs": []
    },
    {
      "cell_type": "code",
      "metadata": {
        "id": "S9DyYDpeRIDH"
      },
      "source": [
        "for x in genome.keys():\n",
        "  text_file = open(x, \"w\")\n",
        "  n = text_file.write(genome[x])\n",
        "  text_file.close()"
      ],
      "execution_count": 120,
      "outputs": []
    },
    {
      "cell_type": "code",
      "metadata": {
        "id": "4GFkQ-5FSfmn"
      },
      "source": [
        "for x in genome.keys():\n",
        "  for y in genome[x]:\n",
        "    if y not in basepairs:\n",
        "      print(y)"
      ],
      "execution_count": 124,
      "outputs": []
    }
  ]
}