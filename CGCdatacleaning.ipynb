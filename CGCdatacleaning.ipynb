{
  "nbformat": 4,
  "nbformat_minor": 0,
  "metadata": {
    "colab": {
      "name": "CGCdatacleaning.ipynb",
      "provenance": []
    },
    "kernelspec": {
      "name": "python3",
      "display_name": "Python 3"
    }
  },
  "cells": [
    {
      "cell_type": "code",
      "metadata": {
        "id": "GG-euba_VB35"
      },
      "source": [
        "\"\"\"----------------------------------------------------------------------------- \n",
        "Strain: AA107\n",
        "Species: Caenorhabditis elegans\n",
        "Genotype: nhr-48(ok178) X.\n",
        "Description: ZK662.3  Homozygous.  No obvious phenotype.  Outer left primer sequence: TCTGAAGTTTGTGAGCCGTG.  Outer right primer sequence: AGCGCCTAGATGAGCAACAT.  Inner left primer sequence: TCCGTTGAATGCCATCTGTA.  Inner right primer sequence: GGACGATGCACATGAGTTTG.  Inner primer PCR product length: 3324 bp.  Deletion size: 1956 bp.\n",
        "Mutagen: UV/TMP\n",
        "Outcrossed: x2 \n",
        "Made by: Adam Antebi\n",
        "Received: 08/19/03 Massachusetts General Hospital, Charlestown, MA\n",
        "-----------------------------------------------------------------------------\"\"\" "
      ],
      "execution_count": null,
      "outputs": []
    },
    {
      "cell_type": "code",
      "metadata": {
        "id": "YxtaQelgJ2sR"
      },
      "source": [
        "with open('/content/Caenorhabditis_Genome_Center_Strains.txt', 'r') as cgc:\n",
        "  data = cgc.readlines()"
      ],
      "execution_count": 5,
      "outputs": []
    },
    {
      "cell_type": "code",
      "metadata": {
        "id": "3mTJWfG0Lb_j"
      },
      "source": [
        "lines = []\n",
        "for line in data:\n",
        "  lines.append(line[:len(line)-1])"
      ],
      "execution_count": 12,
      "outputs": []
    },
    {
      "cell_type": "code",
      "metadata": {
        "colab": {
          "base_uri": "https://localhost:8080/",
          "height": 37
        },
        "id": "OyVH-O5hPn_E",
        "outputId": "2fff3758-d682-4b59-b9cb-fe0f45a31d22"
      },
      "source": [
        "st = 'abcdefg'\n",
        "st[2:]"
      ],
      "execution_count": 16,
      "outputs": [
        {
          "output_type": "execute_result",
          "data": {
            "application/vnd.google.colaboratory.intrinsic+json": {
              "type": "string"
            },
            "text/plain": [
              "'cdefg'"
            ]
          },
          "metadata": {
            "tags": []
          },
          "execution_count": 16
        }
      ]
    },
    {
      "cell_type": "code",
      "metadata": {
        "id": "7-iQd2WPQkP-"
      },
      "source": [
        ""
      ],
      "execution_count": null,
      "outputs": []
    },
    {
      "cell_type": "code",
      "metadata": {
        "id": "HriH-Mx_N3M8"
      },
      "source": [
        "Strain = []\n",
        "Species = []\n",
        "Genotype = []\n",
        "Description = []\n",
        "Mutagen = []\n",
        "Outcrossed = []\n",
        "Made_by = []\n",
        "Recieved = []\n",
        "for line in lines:\n",
        "  if line.startswith('     Strain: '):\n",
        "    Strain.append(line[13:])\n",
        "  if line.startswith('    Species: '):\n",
        "    Species.append(line[13:])\n",
        "  if line.startswith('   Genotype: '):\n",
        "    Genotype.append(line[13:])\n",
        "  if line.startswith('Description: '):\n",
        "    Description.append(line[13:])\n",
        "  if line.startswith('    Mutagen: '):\n",
        "    Mutagen.append(line[13:])\n",
        "  if line.startswith(' Outcrossed: '):\n",
        "    Outcrossed.append(line[13:])\n",
        "  if line.startswith('    Made by: '):\n",
        "    Made_by.append(line[13:])\n",
        "  if line.startswith('   Received: '):\n",
        "    Recieved.append(line[13:])"
      ],
      "execution_count": 24,
      "outputs": []
    },
    {
      "cell_type": "code",
      "metadata": {
        "id": "wD3Iz-MIUJRD"
      },
      "source": [
        "dictionary = {'Species': Species,\n",
        "'Strain': Strain,\n",
        "'Genotype': Genotype,\n",
        "'Description': Description,\n",
        "'Mutagen': Mutagen,\n",
        "'Outcrossed': Outcrossed,\n",
        "'Made_by': Made_by,\n",
        "'Recieved': Recieved,\n",
        "}"
      ],
      "execution_count": 31,
      "outputs": []
    },
    {
      "cell_type": "code",
      "metadata": {
        "id": "w5ryrZ0hRlwy"
      },
      "source": [
        "import pandas as pd\n",
        "df = pd.DataFrame(dictionary)\n",
        "df = df[df.Species == 'Caenorhabditis elegans']"
      ],
      "execution_count": 34,
      "outputs": []
    },
    {
      "cell_type": "code",
      "metadata": {
        "colab": {
          "base_uri": "https://localhost:8080/",
          "height": 1000
        },
        "id": "OzZYIYnyU5ja",
        "outputId": "0f23be97-31b7-437e-af47-917c706c36b8"
      },
      "source": [
        "df.drop(['Species'], axis = 1)"
      ],
      "execution_count": 39,
      "outputs": [
        {
          "output_type": "execute_result",
          "data": {
            "text/html": [
              "<div>\n",
              "<style scoped>\n",
              "    .dataframe tbody tr th:only-of-type {\n",
              "        vertical-align: middle;\n",
              "    }\n",
              "\n",
              "    .dataframe tbody tr th {\n",
              "        vertical-align: top;\n",
              "    }\n",
              "\n",
              "    .dataframe thead th {\n",
              "        text-align: right;\n",
              "    }\n",
              "</style>\n",
              "<table border=\"1\" class=\"dataframe\">\n",
              "  <thead>\n",
              "    <tr style=\"text-align: right;\">\n",
              "      <th></th>\n",
              "      <th>Strain</th>\n",
              "      <th>Genotype</th>\n",
              "      <th>Description</th>\n",
              "      <th>Mutagen</th>\n",
              "      <th>Outcrossed</th>\n",
              "      <th>Made_by</th>\n",
              "      <th>Recieved</th>\n",
              "    </tr>\n",
              "  </thead>\n",
              "  <tbody>\n",
              "    <tr>\n",
              "      <th>0</th>\n",
              "      <td>AA10</td>\n",
              "      <td>daf-12(rh286) X.</td>\n",
              "      <td>Weak heterochronic phenotypes in seam, intesti...</td>\n",
              "      <td>EMS</td>\n",
              "      <td>x4</td>\n",
              "      <td>Adam Antebi</td>\n",
              "      <td>10/23/00 Max Planck Institute, Cologne, Germany</td>\n",
              "    </tr>\n",
              "    <tr>\n",
              "      <th>1</th>\n",
              "      <td>AA107</td>\n",
              "      <td>nhr-48(ok178) X.</td>\n",
              "      <td>ZK662.3  Homozygous.  No obvious phenotype.  O...</td>\n",
              "      <td>UV/TMP</td>\n",
              "      <td>x2</td>\n",
              "      <td>Adam Antebi</td>\n",
              "      <td>08/19/03 Massachusetts General Hospital, Charl...</td>\n",
              "    </tr>\n",
              "    <tr>\n",
              "      <th>2</th>\n",
              "      <td>AA120</td>\n",
              "      <td>dhIs26.</td>\n",
              "      <td>dhIs26 [daf-12a::GFP + lin-15(+)].  DAF-12::GF...</td>\n",
              "      <td>UV</td>\n",
              "      <td>x3</td>\n",
              "      <td>C. Kober-Eisermann</td>\n",
              "      <td>03/23/07 Max Planck Institute, Cologne, Germany</td>\n",
              "    </tr>\n",
              "    <tr>\n",
              "      <th>3</th>\n",
              "      <td>AA18</td>\n",
              "      <td>daf-12(rh61rh412) X.</td>\n",
              "      <td>daf-d.  Weak heterochronic phenotypes in seam,...</td>\n",
              "      <td>Spontaneous</td>\n",
              "      <td>x</td>\n",
              "      <td>Adam Antebi</td>\n",
              "      <td>11/03/00 Max Planck Institute, Cologne, Germany</td>\n",
              "    </tr>\n",
              "    <tr>\n",
              "      <th>4</th>\n",
              "      <td>AA199</td>\n",
              "      <td>unc-29(e1072) I; daf-9(dh6)/+ X.</td>\n",
              "      <td>Heterozygous.  Heterozygotes will segregate da...</td>\n",
              "      <td></td>\n",
              "      <td>x</td>\n",
              "      <td>Antebi Lab</td>\n",
              "      <td>01/11/13 Max Planck Institute, Cologne, Germany</td>\n",
              "    </tr>\n",
              "    <tr>\n",
              "      <th>...</th>\n",
              "      <td>...</td>\n",
              "      <td>...</td>\n",
              "      <td>...</td>\n",
              "      <td>...</td>\n",
              "      <td>...</td>\n",
              "      <td>...</td>\n",
              "      <td>...</td>\n",
              "    </tr>\n",
              "    <tr>\n",
              "      <th>18995</th>\n",
              "      <td>ZZ21</td>\n",
              "      <td>lev-1(x21) tra-3(e2333) IV.</td>\n",
              "      <td>Levamisole resistant.  Unc.  tra-3 mutation di...</td>\n",
              "      <td>EMS</td>\n",
              "      <td>x</td>\n",
              "      <td>Lewis</td>\n",
              "      <td>08/01/82 University of Texas, San Antonio</td>\n",
              "    </tr>\n",
              "    <tr>\n",
              "      <th>18996</th>\n",
              "      <td>ZZ26</td>\n",
              "      <td>unc-63(x26) I.</td>\n",
              "      <td>Recessive.  Resistant to levamisole.  Weakly t...</td>\n",
              "      <td>EMS</td>\n",
              "      <td>x1</td>\n",
              "      <td>Lewis J</td>\n",
              "      <td>03/01/82 University of Texas, San Antonio</td>\n",
              "    </tr>\n",
              "    <tr>\n",
              "      <th>18997</th>\n",
              "      <td>ZZ30</td>\n",
              "      <td>unc-29(x30) I.</td>\n",
              "      <td>Recessive.  Levamisole resistant.  WT movement...</td>\n",
              "      <td>EMS</td>\n",
              "      <td>x1</td>\n",
              "      <td>Lewis J</td>\n",
              "      <td>03/01/82 University of Texas, San Antonio</td>\n",
              "    </tr>\n",
              "    <tr>\n",
              "      <th>18998</th>\n",
              "      <td>ZZ37</td>\n",
              "      <td>unc-63(x37) I.</td>\n",
              "      <td>Use as new reference allele.  Unc.</td>\n",
              "      <td>EMS</td>\n",
              "      <td>x</td>\n",
              "      <td>Jim Lewis</td>\n",
              "      <td>02/22/94 University of Texas, San Antonio</td>\n",
              "    </tr>\n",
              "    <tr>\n",
              "      <th>18999</th>\n",
              "      <td>ZZ545</td>\n",
              "      <td>unc-29(x545) I.</td>\n",
              "      <td></td>\n",
              "      <td>EMS</td>\n",
              "      <td>x</td>\n",
              "      <td>J. Lewis</td>\n",
              "      <td>03/19/01 University of Texas, San Antonio</td>\n",
              "    </tr>\n",
              "  </tbody>\n",
              "</table>\n",
              "<p>18728 rows × 7 columns</p>\n",
              "</div>"
            ],
            "text/plain": [
              "      Strain  ...                                           Recieved\n",
              "0       AA10  ...    10/23/00 Max Planck Institute, Cologne, Germany\n",
              "1      AA107  ...  08/19/03 Massachusetts General Hospital, Charl...\n",
              "2      AA120  ...    03/23/07 Max Planck Institute, Cologne, Germany\n",
              "3       AA18  ...    11/03/00 Max Planck Institute, Cologne, Germany\n",
              "4      AA199  ...    01/11/13 Max Planck Institute, Cologne, Germany\n",
              "...      ...  ...                                                ...\n",
              "18995   ZZ21  ...          08/01/82 University of Texas, San Antonio\n",
              "18996   ZZ26  ...          03/01/82 University of Texas, San Antonio\n",
              "18997   ZZ30  ...          03/01/82 University of Texas, San Antonio\n",
              "18998   ZZ37  ...          02/22/94 University of Texas, San Antonio\n",
              "18999  ZZ545  ...          03/19/01 University of Texas, San Antonio\n",
              "\n",
              "[18728 rows x 7 columns]"
            ]
          },
          "metadata": {
            "tags": []
          },
          "execution_count": 39
        }
      ]
    },
    {
      "cell_type": "code",
      "metadata": {
        "id": "1WsrVBBYV51J"
      },
      "source": [
        "df.to_csv('elegansCGCinfo.csv')"
      ],
      "execution_count": 43,
      "outputs": []
    }
  ]
}